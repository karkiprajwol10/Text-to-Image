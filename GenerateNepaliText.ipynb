{
 "cells": [
  {
   "cell_type": "code",
   "execution_count": 1,
   "id": "6563d978",
   "metadata": {},
   "outputs": [
    {
     "name": "stderr",
     "output_type": "stream",
     "text": [
      "Using state Bagmati Province server backend.\n"
     ]
    }
   ],
   "source": [
    "import translators as ts\n",
    "import translators.server as tss"
   ]
  },
  {
   "cell_type": "code",
   "execution_count": 2,
   "id": "11d4ff0b",
   "metadata": {},
   "outputs": [],
   "source": [
    "import os\n",
    "import numpy as np"
   ]
  },
  {
   "cell_type": "code",
   "execution_count": 28,
   "id": "ac4595ef",
   "metadata": {},
   "outputs": [],
   "source": [
    "root_dir = \"./birds/text_c10\"\n",
    "file_path = []\n",
    "for files in os.listdir(root_dir):\n",
    "    file_name = os.path.join(root_dir, files)\n",
    "    file_path.append(file_name)"
   ]
  },
  {
   "cell_type": "code",
   "execution_count": 24,
   "id": "529fe6c9",
   "metadata": {},
   "outputs": [],
   "source": [
    "file_path.sort()"
   ]
  },
  {
   "cell_type": "code",
   "execution_count": 30,
   "id": "12b9ad5a",
   "metadata": {},
   "outputs": [
    {
     "data": {
      "text/plain": [
       "'./birds/text_c10\\\\200.Common_Yellowthroat'"
      ]
     },
     "execution_count": 30,
     "metadata": {},
     "output_type": "execute_result"
    }
   ],
   "source": [
    "file_path[-1]"
   ]
  },
  {
   "cell_type": "code",
   "execution_count": 29,
   "id": "f72b5b8f",
   "metadata": {},
   "outputs": [
    {
     "data": {
      "text/plain": [
       "200"
      ]
     },
     "execution_count": 29,
     "metadata": {},
     "output_type": "execute_result"
    }
   ],
   "source": [
    "len(file_path)"
   ]
  },
  {
   "cell_type": "code",
   "execution_count": 49,
   "id": "51d96481",
   "metadata": {},
   "outputs": [],
   "source": [
    "file_path2 = file_path[:6000]"
   ]
  },
  {
   "cell_type": "code",
   "execution_count": 50,
   "id": "0fb4d984",
   "metadata": {},
   "outputs": [
    {
     "data": {
      "text/plain": [
       "'./Experiment_2/data/text/Black_Footed_Albatross_0001_796111.txt'"
      ]
     },
     "execution_count": 50,
     "metadata": {},
     "output_type": "execute_result"
    }
   ],
   "source": [
    "file_path2[0]"
   ]
  },
  {
   "cell_type": "code",
   "execution_count": null,
   "id": "b9d26c6c",
   "metadata": {},
   "outputs": [],
   "source": []
  },
  {
   "cell_type": "code",
   "execution_count": null,
   "id": "46227986",
   "metadata": {},
   "outputs": [],
   "source": []
  },
  {
   "cell_type": "code",
   "execution_count": 16,
   "id": "2b7b1513",
   "metadata": {},
   "outputs": [
    {
     "data": {
      "text/plain": [
       "'./Experiment_2/data/text/Black_Footed_Albatross_0001_796111.txt'"
      ]
     },
     "execution_count": 16,
     "metadata": {},
     "output_type": "execute_result"
    }
   ],
   "source": [
    "files_path[0]"
   ]
  },
  {
   "cell_type": "code",
   "execution_count": 6,
   "id": "467771dc",
   "metadata": {},
   "outputs": [],
   "source": [
    "# np.save(\"files_path\", files_path)"
   ]
  },
  {
   "cell_type": "code",
   "execution_count": 17,
   "id": "406f6a19",
   "metadata": {},
   "outputs": [],
   "source": [
    "fp = np.load(\"./files_path.npy\")"
   ]
  },
  {
   "cell_type": "code",
   "execution_count": 18,
   "id": "ea1ca8f0",
   "metadata": {},
   "outputs": [],
   "source": [
    "fp.sort()"
   ]
  },
  {
   "cell_type": "code",
   "execution_count": 19,
   "id": "23d4a67a",
   "metadata": {},
   "outputs": [],
   "source": [
    "fp = fp[:6000]"
   ]
  },
  {
   "cell_type": "code",
   "execution_count": 20,
   "id": "686b4e9c",
   "metadata": {},
   "outputs": [
    {
     "data": {
      "text/plain": [
       "array(['./CUB_200_2011/text/103.Sayornis\\\\Sayornis_0036_98323.txt',\n",
       "       './CUB_200_2011/text/103.Sayornis\\\\Sayornis_0037_98949.txt',\n",
       "       './CUB_200_2011/text/103.Sayornis\\\\Sayornis_0038_98441.txt',\n",
       "       './CUB_200_2011/text/103.Sayornis\\\\Sayornis_0039_98420.txt',\n",
       "       './CUB_200_2011/text/103.Sayornis\\\\Sayornis_0042_98874.txt',\n",
       "       './CUB_200_2011/text/103.Sayornis\\\\Sayornis_0045_98549.txt',\n",
       "       './CUB_200_2011/text/103.Sayornis\\\\Sayornis_0047_98524.txt',\n",
       "       './CUB_200_2011/text/103.Sayornis\\\\Sayornis_0056_99553.txt',\n",
       "       './CUB_200_2011/text/103.Sayornis\\\\Sayornis_0058_98798.txt'],\n",
       "      dtype='<U101')"
      ]
     },
     "execution_count": 20,
     "metadata": {},
     "output_type": "execute_result"
    }
   ],
   "source": [
    "fp[5990:5999]"
   ]
  },
  {
   "cell_type": "code",
   "execution_count": 25,
   "id": "8fb9061a",
   "metadata": {},
   "outputs": [],
   "source": [
    "text_captions = list()\n",
    "for files in file_path:\n",
    "    with open(files, 'r') as f:\n",
    "        try:\n",
    "            lines = f.readlines()\n",
    "            text_captions.append(lines)\n",
    "        except:\n",
    "            print(f\"{files} not found\")"
   ]
  },
  {
   "cell_type": "code",
   "execution_count": 27,
   "id": "c63f3fff",
   "metadata": {},
   "outputs": [
    {
     "data": {
      "text/plain": [
       "1056"
      ]
     },
     "execution_count": 27,
     "metadata": {},
     "output_type": "execute_result"
    }
   ],
   "source": [
    "len(text_captions)"
   ]
  },
  {
   "cell_type": "code",
   "execution_count": 26,
   "id": "0d38c647",
   "metadata": {},
   "outputs": [
    {
     "ename": "IndexError",
     "evalue": "list index out of range",
     "output_type": "error",
     "traceback": [
      "\u001b[1;31m---------------------------------------------------------------------------\u001b[0m",
      "\u001b[1;31mIndexError\u001b[0m                                Traceback (most recent call last)",
      "Cell \u001b[1;32mIn[26], line 1\u001b[0m\n\u001b[1;32m----> 1\u001b[0m tss\u001b[38;5;241m.\u001b[39mgoogle(\u001b[43mtext_captions\u001b[49m\u001b[43m[\u001b[49m\u001b[38;5;241;43m5999\u001b[39;49m\u001b[43m]\u001b[49m[\u001b[38;5;241m0\u001b[39m], to_language\u001b[38;5;241m=\u001b[39m\u001b[38;5;124m\"\u001b[39m\u001b[38;5;124mne\u001b[39m\u001b[38;5;124m\"\u001b[39m)\n",
      "\u001b[1;31mIndexError\u001b[0m: list index out of range"
     ]
    }
   ],
   "source": [
    "tss.google(text_captions[5999][0], to_language=\"ne\")"
   ]
  },
  {
   "cell_type": "code",
   "execution_count": 9,
   "id": "2e3b614b",
   "metadata": {},
   "outputs": [],
   "source": [
    "#np.save(\"eng_text_captions\", text_captions)"
   ]
  },
  {
   "cell_type": "code",
   "execution_count": null,
   "id": "206dad67",
   "metadata": {},
   "outputs": [],
   "source": []
  },
  {
   "cell_type": "code",
   "execution_count": 63,
   "id": "dac17826",
   "metadata": {},
   "outputs": [
    {
     "data": {
      "text/plain": [
       "3000"
      ]
     },
     "execution_count": 63,
     "metadata": {},
     "output_type": "execute_result"
    }
   ],
   "source": [
    "2980+20"
   ]
  },
  {
   "cell_type": "markdown",
   "id": "f6fa7683",
   "metadata": {},
   "source": [
    "1980 + 20"
   ]
  },
  {
   "cell_type": "code",
   "execution_count": 21,
   "id": "00edaee4",
   "metadata": {},
   "outputs": [
    {
     "ename": "NameError",
     "evalue": "name 'text_captions' is not defined",
     "output_type": "error",
     "traceback": [
      "\u001b[1;31m---------------------------------------------------------------------------\u001b[0m",
      "\u001b[1;31mNameError\u001b[0m                                 Traceback (most recent call last)",
      "Cell \u001b[1;32mIn[21], line 3\u001b[0m\n\u001b[0;32m      1\u001b[0m f \u001b[38;5;241m=\u001b[39m \u001b[38;5;28mopen\u001b[39m(\u001b[38;5;124m\"\u001b[39m\u001b[38;5;124m./Experiment_2/data/descriptions.txt\u001b[39m\u001b[38;5;124m\"\u001b[39m, \u001b[38;5;124m\"\u001b[39m\u001b[38;5;124ma\u001b[39m\u001b[38;5;124m\"\u001b[39m, encoding\u001b[38;5;241m=\u001b[39m\u001b[38;5;124m\"\u001b[39m\u001b[38;5;124mutf-8\u001b[39m\u001b[38;5;124m\"\u001b[39m)\n\u001b[0;32m      2\u001b[0m \u001b[38;5;28;01mfor\u001b[39;00m i \u001b[38;5;129;01min\u001b[39;00m \u001b[38;5;28mrange\u001b[39m(\u001b[38;5;241m6000\u001b[39m, \u001b[38;5;241m6020\u001b[39m):\n\u001b[1;32m----> 3\u001b[0m     translated_text \u001b[38;5;241m=\u001b[39m tss\u001b[38;5;241m.\u001b[39mgoogle(\u001b[43mtext_captions\u001b[49m[i][\u001b[38;5;241m0\u001b[39m], to_language \u001b[38;5;241m=\u001b[39m \u001b[38;5;124m'\u001b[39m\u001b[38;5;124mne\u001b[39m\u001b[38;5;124m'\u001b[39m)\n\u001b[0;32m      4\u001b[0m     \u001b[38;5;28;01mtry\u001b[39;00m:\n\u001b[0;32m      5\u001b[0m         f\u001b[38;5;241m.\u001b[39mwrite(\u001b[38;5;124mf\u001b[39m\u001b[38;5;124m\"\u001b[39m\u001b[38;5;130;01m\\n\u001b[39;00m\u001b[38;5;132;01m{\u001b[39;00mtranslated_text\u001b[38;5;132;01m}\u001b[39;00m\u001b[38;5;124m\"\u001b[39m)\n",
      "\u001b[1;31mNameError\u001b[0m: name 'text_captions' is not defined"
     ]
    }
   ],
   "source": [
    "f = open(\"./Experiment_2/data/descriptions.txt\", \"a\", encoding=\"utf-8\")\n",
    "for i in range(6000, 6020):\n",
    "    translated_text = tss.google(text_captions[i][0], to_language = 'ne')\n",
    "    try:\n",
    "        f.write(f\"\\n{translated_text}\")\n",
    "        print(f\"{i} files translated\")\n",
    "        i = i+1\n",
    "    except Exception as inst:\n",
    "        print(f\"Error in {inst} text\")\n",
    "f.close()"
   ]
  },
  {
   "cell_type": "code",
   "execution_count": 9,
   "id": "8fd6cc28",
   "metadata": {},
   "outputs": [],
   "source": [
    "file_path = np.load(\"./files_path.npy\")"
   ]
  },
  {
   "cell_type": "code",
   "execution_count": 10,
   "id": "1ac84686",
   "metadata": {},
   "outputs": [],
   "source": [
    "file_path = file_path.tolist()"
   ]
  },
  {
   "cell_type": "code",
   "execution_count": 11,
   "id": "91ce872c",
   "metadata": {},
   "outputs": [
    {
     "data": {
      "text/plain": [
       "11788"
      ]
     },
     "execution_count": 11,
     "metadata": {},
     "output_type": "execute_result"
    }
   ],
   "source": [
    "len(file_path)"
   ]
  },
  {
   "cell_type": "code",
   "execution_count": 12,
   "id": "89acb960",
   "metadata": {},
   "outputs": [],
   "source": [
    "file_path = file_path[:6000]"
   ]
  },
  {
   "cell_type": "code",
   "execution_count": 20,
   "id": "8f83af64",
   "metadata": {},
   "outputs": [
    {
     "data": {
      "text/plain": [
       "26"
      ]
     },
     "execution_count": 20,
     "metadata": {},
     "output_type": "execute_result"
    }
   ],
   "source": [
    "len(file_path[:6000])"
   ]
  },
  {
   "cell_type": "code",
   "execution_count": 14,
   "id": "e9560ca7",
   "metadata": {},
   "outputs": [
    {
     "data": {
      "text/plain": [
       "'./CUB_200_2011/text/037.Acadian_Flycatcher\\\\Acadian_Flycatcher_0063_795585.txt'"
      ]
     },
     "execution_count": 14,
     "metadata": {},
     "output_type": "execute_result"
    }
   ],
   "source": [
    "file_path[2100]"
   ]
  },
  {
   "cell_type": "code",
   "execution_count": 26,
   "id": "167e7246",
   "metadata": {},
   "outputs": [
    {
     "data": {
      "text/plain": [
       "6000"
      ]
     },
     "execution_count": 26,
     "metadata": {},
     "output_type": "execute_result"
    }
   ],
   "source": [
    "len(file_path)"
   ]
  },
  {
   "cell_type": "code",
   "execution_count": null,
   "id": "64cd05e9",
   "metadata": {},
   "outputs": [],
   "source": []
  }
 ],
 "metadata": {
  "kernelspec": {
   "display_name": "Python 3 (ipykernel)",
   "language": "python",
   "name": "python3"
  },
  "language_info": {
   "codemirror_mode": {
    "name": "ipython",
    "version": 3
   },
   "file_extension": ".py",
   "mimetype": "text/x-python",
   "name": "python",
   "nbconvert_exporter": "python",
   "pygments_lexer": "ipython3",
   "version": "3.10.9"
  }
 },
 "nbformat": 4,
 "nbformat_minor": 5
}
